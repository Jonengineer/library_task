{
 "cells": [
  {
   "cell_type": "code",
   "execution_count": 10,
   "metadata": {},
   "outputs": [],
   "source": [
    "# Задание № 1 \n",
    "import pandas as pd\n",
    "\n",
    "# Чтение данных из файла visit_log.csv в датафрейм\n",
    "log = pd.read_csv('E://Student//Python_Task//visit_log.csv', delimiter=';')\n",
    "\n",
    "# Создаем функцию для определения значения source_type\n",
    "def get_source_type(row):\n",
    "    if row['traffic_source'] in ['yandex', 'google']:\n",
    "        return 'organic'\n",
    "    elif row['traffic_source'] == 'paid' and row['region'] == 'Russia':\n",
    "        return 'ad'\n",
    "    elif row['traffic_source'] == 'email' and row['region'] == 'Russia':\n",
    "        return 'ad'\n",
    "    elif row['traffic_source'] == 'paid' or row['traffic_source'] == 'email':\n",
    "        return 'other'\n",
    "    else:\n",
    "        return row['traffic_source']\n",
    "\n",
    "# Применяем функцию к каждой строке датафрейма\n",
    "log['source_type'] = log.apply(get_source_type, axis=1)\n",
    "\n",
    "# Сохраняем обновленный датафрейм в файл:\n",
    "log.to_csv('log_with_source_type.csv', index=False, sep=';')"
   ]
  },
  {
   "cell_type": "code",
   "execution_count": 13,
   "metadata": {},
   "outputs": [
    {
     "name": "stdout",
     "output_type": "stream",
     "text": [
      "                                                  url\n",
      "3   /politics/36188461-s-marta-zhizn-rossiyan-susc...\n",
      "4   /world/36007585-tramp-pridumal-kak-reshit-ukra...\n",
      "5   /science/36157853-nasa-sobiraet-ekstrennuyu-pr...\n",
      "6   /video/36001498-poyavilis-pervye-podrobnosti-g...\n",
      "7   /world/36007585-tramp-pridumal-kak-reshit-ukra...\n",
      "..                                                ...\n",
      "88  /cis/35984145-kreml-prokommentiroval-soobschen...\n",
      "89  /video/36071019-olimpiyskie-obekty-rio-prevrat...\n",
      "90  /science/36151301-nazvano-posledstvie-zloupotr...\n",
      "91  /incidents/36027330-vospitatelnitsu-zatravili-...\n",
      "92  /world/36103095-dominikanskih-zhurnalistov-ubi...\n",
      "\n",
      "[84 rows x 1 columns]\n"
     ]
    }
   ],
   "source": [
    "# Задание № 2\n",
    "import pandas as pd\n",
    "\n",
    "# Чтение файла с датафрейм\n",
    "log = pd.read_csv('URLs.txt', sep=';')\n",
    "\n",
    "# Фильтрация страниц с текстом новостей\n",
    "news_pages = log[log['url'].str.contains(r'\\/\\d{8}-')]\n",
    "\n",
    "# Вывод результата\n",
    "print(news_pages)"
   ]
  },
  {
   "cell_type": "code",
   "execution_count": 15,
   "metadata": {},
   "outputs": [
    {
     "name": "stdout",
     "output_type": "stream",
     "text": [
      "Среднее время жизни пользователей с более 100 оценками: 40080507.4496124\n"
     ]
    }
   ],
   "source": [
    "# Задание № 3\n",
    "import pandas as pd\n",
    "\n",
    "# Загрузка данных из файла\n",
    "ratings = pd.read_csv('ratings.csv')\n",
    "\n",
    "# Подсчет количества оценок для каждого пользователя\n",
    "user_ratings_count = ratings.groupby('userId').size().reset_index(name='rating_count')\n",
    "\n",
    "# Фильтрация пользователей с более 100 оценками\n",
    "active_users = user_ratings_count[user_ratings_count['rating_count'] > 100]\n",
    "\n",
    "# Расчет среднего времени жизни для активных пользователей\n",
    "mean_lifetime = ratings[ratings['userId'].isin(active_users['userId'])] \\\n",
    "    .groupby('userId')['timestamp'] \\\n",
    "    .apply(lambda x: max(x) - min(x)) \\\n",
    "    .mean()\n",
    "\n",
    "print(\"Среднее время жизни пользователей с более 100 оценками:\", mean_lifetime)\n",
    "\n"
   ]
  },
  {
   "cell_type": "code",
   "execution_count": 16,
   "metadata": {},
   "outputs": [
    {
     "name": "stdout",
     "output_type": "stream",
     "text": [
      "Таблица с тремя типами выручки для каждого client_id без указания адреса клиента:\n",
      "   client_id  rzd_revenue  auto_revenue  air_revenue\n",
      "0        111       1093.0           NaN          NaN\n",
      "1        112       2810.0           NaN          NaN\n",
      "2        113      10283.0       57483.0          NaN\n",
      "3        114       5774.0          83.0          NaN\n",
      "4        115        981.0         912.0         81.0\n",
      "5        116          NaN        4834.0          4.0\n",
      "6        117          NaN          98.0         13.0\n",
      "7        118          NaN           NaN        173.0\n",
      "\n",
      "\n",
      "Таблица с тремя типами выручки для каждого client_id с указанием адреса клиента:\n",
      "   client_id  rzd_revenue  auto_revenue  air_revenue          address\n",
      "0        111       1093.0           NaN          NaN  Комсомольская 4\n",
      "1        112       2810.0           NaN          NaN   Энтузиастов 8а\n",
      "2        113      10283.0       57483.0          NaN  Левобережная 1а\n",
      "3        114       5774.0          83.0          NaN          Мира 14\n",
      "4        115        981.0         912.0         81.0        ЗЖБИиДК 1\n",
      "5        116          NaN        4834.0          4.0    Строителей 18\n",
      "6        117          NaN          98.0         13.0  Панфиловская 33\n",
      "7        118          NaN           NaN        173.0     Мастеркова 4\n"
     ]
    }
   ],
   "source": [
    "# Задание № 4\n",
    "import pandas as pd\n",
    "\n",
    "rzd = pd.DataFrame(\n",
    "    {\n",
    "        'client_id': [111, 112, 113, 114, 115],\n",
    "        'rzd_revenue': [1093, 2810, 10283, 5774, 981]\n",
    "    }\n",
    ")\n",
    "rzd\n",
    "\n",
    "auto = pd.DataFrame(\n",
    "    {\n",
    "        'client_id': [113, 114, 115, 116, 117],\n",
    "        'auto_revenue': [57483, 83, 912, 4834, 98]\n",
    "    }\n",
    ")\n",
    "auto\n",
    "\n",
    "air = pd.DataFrame(\n",
    "    {\n",
    "        'client_id': [115, 116, 117, 118],\n",
    "        'air_revenue': [81, 4, 13, 173]\n",
    "    }\n",
    ")\n",
    "air\n",
    "\n",
    "client_base = pd.DataFrame(\n",
    "    {\n",
    "        'client_id': [111, 112, 113, 114, 115, 116, 117, 118],\n",
    "        'address': ['Комсомольская 4', 'Энтузиастов 8а', 'Левобережная 1а', 'Мира 14', 'ЗЖБИиДК 1', \n",
    "                    'Строителей 18', 'Панфиловская 33', 'Мастеркова 4']\n",
    "    }\n",
    ")\n",
    "client_base\n",
    "\n",
    "# Объединение таблиц без указания адреса клиента\n",
    "revenue_table = rzd.merge(auto, on='client_id', how='outer').merge(air, on='client_id', how='outer')\n",
    "\n",
    "# Объединение таблиц с указанием адреса клиента\n",
    "revenue_address_table = revenue_table.merge(client_base[['client_id', 'address']], on='client_id', how='left')\n",
    "\n",
    "print(\"Таблица с тремя типами выручки для каждого client_id без указания адреса клиента:\")\n",
    "print(revenue_table)\n",
    "print(\"\\n\")\n",
    "print(\"Таблица с тремя типами выручки для каждого client_id с указанием адреса клиента:\")\n",
    "print(revenue_address_table)\n",
    "\n"
   ]
  }
 ],
 "metadata": {
  "kernelspec": {
   "display_name": "Python 3",
   "language": "python",
   "name": "python3"
  },
  "language_info": {
   "codemirror_mode": {
    "name": "ipython",
    "version": 3
   },
   "file_extension": ".py",
   "mimetype": "text/x-python",
   "name": "python",
   "nbconvert_exporter": "python",
   "pygments_lexer": "ipython3",
   "version": "3.10.11"
  },
  "orig_nbformat": 4
 },
 "nbformat": 4,
 "nbformat_minor": 2
}
