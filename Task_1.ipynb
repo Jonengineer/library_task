{
 "cells": [
  {
   "cell_type": "code",
   "execution_count": 12,
   "metadata": {},
   "outputs": [
    {
     "name": "stdout",
     "output_type": "stream",
     "text": [
      "Фильм с наибольшим количеством оценок 5.0: 318\n"
     ]
    }
   ],
   "source": [
    "#Задание № 1\n",
    "import pandas as pd\n",
    "\n",
    "data = pd.read_csv('E://Student//Python_Task//ratings.csv')\n",
    "\n",
    "# Отфильтровываем данные с рейтингом 5.0\n",
    "filtered_data = data[data['rating'] == 5.0]\n",
    "\n",
    "# Считаем количество оценок 5.0 для каждого фильма\n",
    "count_5_rating = filtered_data['movieId'].value_counts()\n",
    "\n",
    "# Находим фильм с наибольшим количеством оценок 5.0\n",
    "most_rated_movie = count_5_rating.idxmax()\n",
    "\n",
    "print(\"Фильм с наибольшим количеством оценок 5.0:\", most_rated_movie)"
   ]
  },
  {
   "cell_type": "code",
   "execution_count": 35,
   "metadata": {},
   "outputs": [
    {
     "name": "stdout",
     "output_type": "stream",
     "text": [
      "country\n",
      "Estonia       63440.0\n",
      "Latvia        54844.0\n",
      "Lithuania    122197.0\n",
      "Name: quantity, dtype: float64\n"
     ]
    }
   ],
   "source": [
    "#Задание № 2\n",
    "import pandas as pd\n",
    "\n",
    "data = pd.read_csv('E://Student//Python_Task//power.csv')\n",
    "\n",
    "# Отфильтровываем данные, чтобы category был равен 4 или равен 12\n",
    "filtered_data = data[(data['category'] == 4) | (data['category'] == 12) | (data['category'] == 21)]\n",
    "\n",
    "# Отфильтровываем данные, чтобы country был равен Латвия, Литва и Эстония\n",
    "filtered_country = filtered_data[(filtered_data['country'] == 'Latvia') | (filtered_data['country'] == 'Lithuania') | (filtered_data['country'] == 'Estonia')]\n",
    "\n",
    "# Отфильтровываем данные, чтобы year был в диапазоне с 2005 по 2012 годы\n",
    "filtered_year = filtered_country[(filtered_country['year'] >= 2005) & (filtered_country['year'] <= 2010)]\n",
    "\n",
    "# Исключаем отрицательные значения quantity\n",
    "quantity_positive = filtered_year[filtered_year['quantity'] >= 0]\n",
    "\n",
    "# Считаем сумму значений  quantity  по странам\n",
    "sum_coutry = filtered_year.groupby('country')['quantity'].sum()\n",
    "\n",
    "# Выводим первые 5 строк отфильтрованных данных\n",
    "print(sum_coutry)\n"
   ]
  },
  {
   "cell_type": "code",
   "execution_count": 8,
   "metadata": {},
   "outputs": [
    {
     "name": "stdout",
     "output_type": "stream",
     "text": [
      "                                    Функция или метод   \n",
      "0   S = 'str'; S = \"str\"; S = '''str'''; S = \"\"\"st...  \\\n",
      "1                                  S = \"s\\np\\ta\\nbbb\"   \n",
      "2                                  S = r\"C:\\temp\\new\"   \n",
      "3                                         S = b\"byte\"   \n",
      "4                                             S1 + S2   \n",
      "5                                              S1 * 3   \n",
      "6                                                S[i]   \n",
      "7                                         S[i:j:step]   \n",
      "8                                              len(S)   \n",
      "9                          S.find(str, [start],[end])   \n",
      "10                        S.rfind(str, [start],[end])   \n",
      "11                        S.index(str, [start],[end])   \n",
      "12                       S.rindex(str, [start],[end])   \n",
      "13              S.replace(шаблон, замена[, maxcount])   \n",
      "14                                    S.split(символ)   \n",
      "15                                        S.isdigit()   \n",
      "16                                        S.isalpha()   \n",
      "17                                        S.isalnum()   \n",
      "18                                        S.islower()   \n",
      "19                                        S.isupper()   \n",
      "20                                        S.isspace()   \n",
      "21                                        S.istitle()   \n",
      "22                                          S.upper()   \n",
      "23                                          S.lower()   \n",
      "24                                  S.startswith(str)   \n",
      "25                                    S.endswith(str)   \n",
      "26                                     S.join(список)   \n",
      "27                                        ord(символ)   \n",
      "28                                         chr(число)   \n",
      "29                                     S.capitalize()   \n",
      "30                            S.center(width, [fill])   \n",
      "31                        S.count(str, [start],[end])   \n",
      "32                            S.expandtabs([tabsize])   \n",
      "33                                  S.lstrip([chars])   \n",
      "34                                  S.rstrip([chars])   \n",
      "35                                   S.strip([chars])   \n",
      "36                                S.partition(шаблон)   \n",
      "37                                  S.rpartition(sep)   \n",
      "38                                       S.swapcase()   \n",
      "39                                          S.title()   \n",
      "40                                     S.zfill(width)   \n",
      "41                       S.ljust(width, fillchar=\" \")   \n",
      "42                       S.rjust(width, fillchar=\" \")   \n",
      "43                          S.format(*args, **kwargs)   \n",
      "\n",
      "                                           Назначение  \n",
      "0                                      Литералы строк  \n",
      "1                   Экранированные последовательности  \n",
      "2   Неформатированные строки (подавляют экранирова...  \n",
      "3                                       Строка байтов  \n",
      "4                       Конкатенация (сложение строк)  \n",
      "5                                   Повторение строки  \n",
      "6                                Обращение по индексу  \n",
      "7                                    Извлечение среза  \n",
      "8                                        Длина строки  \n",
      "9   Поиск подстроки в строке. Возвращает номер пер...  \n",
      "10  Поиск подстроки в строке. Возвращает номер пос...  \n",
      "11  Поиск подстроки в строке. Возвращает номер пер...  \n",
      "12  Поиск подстроки в строке. Возвращает номер пос...  \n",
      "13  Замена шаблона на замену. maxcount ограничивае...  \n",
      "14                    Разбиение строки по разделителю  \n",
      "15                          Состоит ли строка из цифр  \n",
      "16                          Состоит ли строка из букв  \n",
      "17                 Состоит ли строка из цифр или букв  \n",
      "18    Состоит ли строка из символов в нижнем регистре  \n",
      "19   Состоит ли строка из символов в верхнем регистре  \n",
      "20  Состоит ли строка из неотображаемых символов (...  \n",
      "21     Начинаются ли слова в строке с заглавной буквы  \n",
      "22          Преобразование строки к верхнему регистру  \n",
      "23           Преобразование строки к нижнему регистру  \n",
      "24               Начинается ли строка S с шаблона str  \n",
      "25             Заканчивается ли строка S шаблоном str  \n",
      "26           Сборка строки из списка с разделителем S  \n",
      "27                             Символ в его код ASCII  \n",
      "28                                 Код ASCII в символ  \n",
      "29  Переводит первый символ строки в верхний регис...  \n",
      "30  Возвращает отцентрованную строку, по краям кот...  \n",
      "31  Возвращает количество непересекающихся вхожден...  \n",
      "32  Возвращает копию строки, в которой все символы...  \n",
      "33       Удаление пробельных символов в начале строки  \n",
      "34        Удаление пробельных символов в конце строки  \n",
      "35  Удаление пробельных символов в начале и в конц...  \n",
      "36  Возвращает кортеж, содержащий часть перед перв...  \n",
      "37  Возвращает кортеж, содержащий часть перед посл...  \n",
      "38  Переводит символы нижнего регистра в верхний, ...  \n",
      "39  Первую букву каждого слова переводит в верхний...  \n",
      "40  Делает длину строки не меньшей width, по необх...  \n",
      "41  Делает длину строки не меньшей width, по необх...  \n",
      "42  Делает длину строки не меньшей width, по необх...  \n",
      "43                              Форматирование строки  \n"
     ]
    }
   ],
   "source": [
    "#Задание №3\n",
    "import pandas as pd\n",
    "\n",
    "data = pd.read_html('https://pythonworld.ru/tipy-dannyx-v-python/stroki-funkcii-i-metody-strok.html', attrs= {'class': 'head'})\n",
    "print(data)"
   ]
  }
 ],
 "metadata": {
  "kernelspec": {
   "display_name": "Python 3",
   "language": "python",
   "name": "python3"
  },
  "language_info": {
   "codemirror_mode": {
    "name": "ipython",
    "version": 3
   },
   "file_extension": ".py",
   "mimetype": "text/x-python",
   "name": "python",
   "nbconvert_exporter": "python",
   "pygments_lexer": "ipython3",
   "version": "3.10.11"
  },
  "orig_nbformat": 4
 },
 "nbformat": 4,
 "nbformat_minor": 2
}
