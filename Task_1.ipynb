{
 "cells": [
  {
   "cell_type": "code",
   "execution_count": 12,
   "metadata": {},
   "outputs": [
    {
     "name": "stdout",
     "output_type": "stream",
     "text": [
      "Фильм с наибольшим количеством оценок 5.0: 318\n"
     ]
    }
   ],
   "source": [
    "#Задание № 1\n",
    "import pandas as pd\n",
    "\n",
    "data = pd.read_csv('E://Student//Python_Task//ratings.csv')\n",
    "\n",
    "# Отфильтровываем данные с рейтингом 5.0\n",
    "filtered_data = data[data['rating'] == 5.0]\n",
    "\n",
    "# Считаем количество оценок 5.0 для каждого фильма\n",
    "count_5_rating = filtered_data['movieId'].value_counts()\n",
    "\n",
    "# Находим фильм с наибольшим количеством оценок 5.0\n",
    "most_rated_movie = count_5_rating.idxmax()\n",
    "\n",
    "print(\"Фильм с наибольшим количеством оценок 5.0:\", most_rated_movie)"
   ]
  },
  {
   "cell_type": "code",
   "execution_count": 35,
   "metadata": {},
   "outputs": [
    {
     "name": "stdout",
     "output_type": "stream",
     "text": [
      "country\n",
      "Estonia       63440.0\n",
      "Latvia        54844.0\n",
      "Lithuania    122197.0\n",
      "Name: quantity, dtype: float64\n"
     ]
    }
   ],
   "source": [
    "#Задание № 2\n",
    "import pandas as pd\n",
    "\n",
    "data = pd.read_csv('E://Student//Python_Task//power.csv')\n",
    "\n",
    "# Отфильтровываем данные, чтобы category был равен 4 или равен 12\n",
    "filtered_data = data[(data['category'] == 4) | (data['category'] == 12) | (data['category'] == 21)]\n",
    "\n",
    "# Отфильтровываем данные, чтобы country был равен Латвия, Литва и Эстония\n",
    "filtered_country = filtered_data[(filtered_data['country'] == 'Latvia') | (filtered_data['country'] == 'Lithuania') | (filtered_data['country'] == 'Estonia')]\n",
    "\n",
    "# Отфильтровываем данные, чтобы year был в диапазоне с 2005 по 2012 годы\n",
    "filtered_year = filtered_country[(filtered_country['year'] >= 2005) & (filtered_country['year'] <= 2010)]\n",
    "\n",
    "# Исключаем отрицательные значения quantity\n",
    "quantity_positive = filtered_year[filtered_year['quantity'] >= 0]\n",
    "\n",
    "# Считаем сумму значений  quantity  по странам\n",
    "sum_coutry = filtered_year.groupby('country')['quantity'].sum()\n",
    "\n",
    "# Выводим первые 5 строк отфильтрованных данных\n",
    "print(sum_coutry)\n"
   ]
  },
  {
   "cell_type": "code",
   "execution_count": 9,
   "metadata": {},
   "outputs": [
    {
     "name": "stdout",
     "output_type": "stream",
     "text": [
      "                           Название   Цена  Изменение  Изменение(%)  Обновлено\n",
      "0  EURRUB Курс евро к рублю сегодня  84.82        0.0           0.0        NaN\n",
      "1       USDRUB Курс рубля к доллару  79.17        0.0           0.0        NaN\n"
     ]
    }
   ],
   "source": [
    "#Задание №3\n",
    "import pandas as pd\n",
    "\n",
    "data = pd.read_html('https://fortrader.org/quotes')[0]\n",
    "print(data)"
   ]
  }
 ],
 "metadata": {
  "kernelspec": {
   "display_name": "Python 3",
   "language": "python",
   "name": "python3"
  },
  "language_info": {
   "codemirror_mode": {
    "name": "ipython",
    "version": 3
   },
   "file_extension": ".py",
   "mimetype": "text/x-python",
   "name": "python",
   "nbconvert_exporter": "python",
   "pygments_lexer": "ipython3",
   "version": "3.10.11"
  },
  "orig_nbformat": 4
 },
 "nbformat": 4,
 "nbformat_minor": 2
}
