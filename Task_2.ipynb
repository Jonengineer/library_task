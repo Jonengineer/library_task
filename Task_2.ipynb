{
 "cells": [
  {
   "cell_type": "code",
   "execution_count": 8,
   "metadata": {},
   "outputs": [
    {
     "name": "stdout",
     "output_type": "stream",
     "text": [
      "0         средний рейтинг\n",
      "1         средний рейтинг\n",
      "2         средний рейтинг\n",
      "3          низкий рейтинг\n",
      "4         средний рейтинг\n",
      "               ...       \n",
      "99999     средний рейтинг\n",
      "100000    средний рейтинг\n",
      "100001    средний рейтинг\n",
      "100002    средний рейтинг\n",
      "100003    средний рейтинг\n",
      "Name: class_ratings, Length: 100004, dtype: object\n"
     ]
    }
   ],
   "source": [
    "#Задание № 1\n",
    "import pandas as pd\n",
    "\n",
    "data = pd.read_csv('E://Student//Python_Task//ratings.csv')\n",
    "\n",
    "#Создаем функцию для растановки рейтинга\n",
    "def class_ratings(rating):\n",
    "    if rating <= 2:\n",
    "       return 'низкий рейтинг'\n",
    "    elif rating <= 4 and rating > 2 :\n",
    "       return 'средний рейтинг'\n",
    "    elif rating == 4.5 or rating == 5:\n",
    "       return 'высокий рейтинг'\n",
    "\n",
    "data['class_ratings'] = data['rating'].apply(class_ratings)\n",
    "\n",
    "# Вывод результатов\n",
    "print(data['class_ratings'])"
   ]
  },
  {
   "cell_type": "code",
   "execution_count": 1,
   "metadata": {},
   "outputs": [
    {
     "name": "stdout",
     "output_type": "stream",
     "text": [
      "                       keyword     shows     region\n",
      "0                           вк  64292779  undefined\n",
      "1                одноклассники  63810309  undefined\n",
      "2                        порно  41747114  undefined\n",
      "3                         ютуб  39995567  undefined\n",
      "4                    вконтакте  21014195  undefined\n",
      "...                        ...       ...        ...\n",
      "99995   эльдорадо старый оскол      3705  undefined\n",
      "99996      frigate для firefox      3630  undefined\n",
      "99997                   укрсиб      3630  undefined\n",
      "99998  погода в ялте на неделю      3688  undefined\n",
      "99999                     ггму      3630  undefined\n",
      "\n",
      "[100000 rows x 3 columns]\n"
     ]
    }
   ],
   "source": [
    "#Задание № 2\n",
    "import pandas as pd\n",
    "\n",
    "geo_data = {'Центр': ['москва', 'тула', 'ярославль'], \n",
    "            'Северо-Запад': ['петербург', 'псков', 'мурманск'],\n",
    "            'Дальний Восток': ['владивосток', 'сахалин', 'хабаровск']\n",
    "            }\n",
    "\n",
    "data = pd.read_csv('E://Student//Python_Task//keywords.csv')\n",
    "\n",
    "#Создаем функцию для классификации по регионам\n",
    "def region_class(query):\n",
    "    for region, cities in geo_data.items():\n",
    "        for city in cities:\n",
    "            if city in query:\n",
    "                return region\n",
    "    return 'undefined'\n",
    "\n",
    "# Применение функции к столбцу 'keyword' и создание нового столбца 'region'\n",
    "data['region'] = data['keyword'].apply(region_class)\n",
    "\n",
    "# Сохранение результатов в файл 'output.csv'\n",
    "data.to_csv('E://Student//Python_Task//output.csv', index=False)\n",
    "\n",
    "# Вывод результатов\n",
    "print(data)\n"
   ]
  }
 ],
 "metadata": {
  "kernelspec": {
   "display_name": "Python 3",
   "language": "python",
   "name": "python3"
  },
  "language_info": {
   "codemirror_mode": {
    "name": "ipython",
    "version": 3
   },
   "file_extension": ".py",
   "mimetype": "text/x-python",
   "name": "python",
   "nbconvert_exporter": "python",
   "pygments_lexer": "ipython3",
   "version": "3.10.11"
  },
  "orig_nbformat": 4
 },
 "nbformat": 4,
 "nbformat_minor": 2
}
